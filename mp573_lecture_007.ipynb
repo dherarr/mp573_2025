{
 "cells": [
  {
   "cell_type": "code",
   "execution_count": 1,
   "metadata": {},
   "outputs": [
    {
     "name": "stdout",
     "output_type": "stream",
     "text": [
      "Defaulting to user installation because normal site-packages is not writeable\n",
      "Requirement already satisfied: ipywidgets in /Users/dxh157/Library/Python/3.13/lib/python/site-packages (8.1.7)\n",
      "Requirement already satisfied: comm>=0.1.3 in /Users/dxh157/Library/Python/3.13/lib/python/site-packages (from ipywidgets) (0.2.3)\n",
      "Requirement already satisfied: ipython>=6.1.0 in /Users/dxh157/Library/Python/3.13/lib/python/site-packages (from ipywidgets) (9.4.0)\n",
      "Requirement already satisfied: traitlets>=4.3.1 in /Users/dxh157/Library/Python/3.13/lib/python/site-packages (from ipywidgets) (5.14.3)\n",
      "Requirement already satisfied: widgetsnbextension~=4.0.14 in /Users/dxh157/Library/Python/3.13/lib/python/site-packages (from ipywidgets) (4.0.14)\n",
      "Requirement already satisfied: jupyterlab_widgets~=3.0.15 in /Users/dxh157/Library/Python/3.13/lib/python/site-packages (from ipywidgets) (3.0.15)\n",
      "Requirement already satisfied: decorator in /Users/dxh157/Library/Python/3.13/lib/python/site-packages (from ipython>=6.1.0->ipywidgets) (5.2.1)\n",
      "Requirement already satisfied: ipython-pygments-lexers in /Users/dxh157/Library/Python/3.13/lib/python/site-packages (from ipython>=6.1.0->ipywidgets) (1.1.1)\n",
      "Requirement already satisfied: jedi>=0.16 in /Users/dxh157/Library/Python/3.13/lib/python/site-packages (from ipython>=6.1.0->ipywidgets) (0.19.2)\n",
      "Requirement already satisfied: matplotlib-inline in /Users/dxh157/Library/Python/3.13/lib/python/site-packages (from ipython>=6.1.0->ipywidgets) (0.1.7)\n",
      "Requirement already satisfied: pexpect>4.3 in /Users/dxh157/Library/Python/3.13/lib/python/site-packages (from ipython>=6.1.0->ipywidgets) (4.9.0)\n",
      "Requirement already satisfied: prompt_toolkit<3.1.0,>=3.0.41 in /Users/dxh157/Library/Python/3.13/lib/python/site-packages (from ipython>=6.1.0->ipywidgets) (3.0.52)\n",
      "Requirement already satisfied: pygments>=2.4.0 in /Users/dxh157/Library/Python/3.13/lib/python/site-packages (from ipython>=6.1.0->ipywidgets) (2.19.2)\n",
      "Requirement already satisfied: stack_data in /Users/dxh157/Library/Python/3.13/lib/python/site-packages (from ipython>=6.1.0->ipywidgets) (0.6.3)\n",
      "Requirement already satisfied: wcwidth in /Users/dxh157/Library/Python/3.13/lib/python/site-packages (from prompt_toolkit<3.1.0,>=3.0.41->ipython>=6.1.0->ipywidgets) (0.2.13)\n",
      "Requirement already satisfied: parso<0.9.0,>=0.8.4 in /Users/dxh157/Library/Python/3.13/lib/python/site-packages (from jedi>=0.16->ipython>=6.1.0->ipywidgets) (0.8.5)\n",
      "Requirement already satisfied: ptyprocess>=0.5 in /Users/dxh157/Library/Python/3.13/lib/python/site-packages (from pexpect>4.3->ipython>=6.1.0->ipywidgets) (0.7.0)\n",
      "Requirement already satisfied: executing>=1.2.0 in /Users/dxh157/Library/Python/3.13/lib/python/site-packages (from stack_data->ipython>=6.1.0->ipywidgets) (2.2.0)\n",
      "Requirement already satisfied: asttokens>=2.1.0 in /Users/dxh157/Library/Python/3.13/lib/python/site-packages (from stack_data->ipython>=6.1.0->ipywidgets) (3.0.0)\n",
      "Requirement already satisfied: pure-eval in /Users/dxh157/Library/Python/3.13/lib/python/site-packages (from stack_data->ipython>=6.1.0->ipywidgets) (0.2.3)\n",
      "Note: you may need to restart the kernel to use updated packages.\n"
     ]
    }
   ],
   "source": [
    "%pip install ipywidgets\n",
    "\n",
    "## MP 573 Lecture 7: Properties of the Fourier Transform in N Dimensions\n",
    "## (basic properties, see additional 'extra' notebook)\n",
    "%matplotlib inline\n",
    "import numpy as np\n",
    "import matplotlib.pyplot as plt\n",
    "from IPython.display import display, Image\n",
    "import matplotlib.image as mpimg\n",
    "from scipy import signal\n",
    "from ipywidgets import interact, interactive, fixed, interact_manual, FloatSlider\n",
    "import ipywidgets as widgets"
   ]
  },
  {
   "cell_type": "markdown",
   "metadata": {},
   "source": [
    "# Recap of the Fourier transform\n",
    "\n",
    "As we have covered in our lecture notes, here is the expression for the Fourier transform in 2D:\n",
    "\n",
    "$$\\hat{f}(u,v) = \\int{ \\int{ f(x,y) e^{-i 2 \\pi (x u + y v)} dx dy}}$$\n",
    "\n",
    "And here is the expression for the inverse Fourier transform:\n",
    "\n",
    "$$ f(x,y) = \\int{ \\int{ \\hat{f}(u,v) e^{i 2 \\pi (x u + y v)} du dv}}$$\n",
    "\n",
    "Note that the inverse Fourier transform has a pretty intuitive interpretation, ie: expressing our image $f(x,y)$ as a superposition (sum) of complex exponentials $e^{i 2 \\pi (x u + y v)}$ (each with spatial frequencies $u$ and $v$ along the $x$ and $y$ dimensions, respectively). Each of these complex exponentials is weighted in the superposition by a certain complex-valued weight $\\hat{f}(u,v)$ (ie: the value of the Fourier transform of $f$ at the corresponding frequency). \n",
    "\n"
   ]
  },
  {
   "cell_type": "markdown",
   "metadata": {},
   "source": [
    "# Translation property of the Fourier transform\n",
    "\n",
    "For any signal $f_1(\\boldsymbol{r})$  with FT $\\hat{f}_1(\\boldsymbol{u})$, the FT of its shifted version $f_2(\\boldsymbol{r}) = f_1(\\boldsymbol{r}-\\boldsymbol{r_0})$ is given by a modulated version of $\\hat{f}_1(\\boldsymbol{u})$:\n",
    "$$ \\hat{f}_2(\\boldsymbol{u}) = e^{-i2 \\pi \\boldsymbol{r_0} \\cdot \\boldsymbol{u} } \\hat{f}_1(\\boldsymbol{u})$$\n",
    "\n",
    "In the exponential of the modulation: \n",
    "$$\\boldsymbol{r_0} \\cdot \\boldsymbol{u} = r_{0,1}u_1 + r_{0,2}u_2 + \\cdots + r_{0,N}u_N$$\n",
    "\n"
   ]
  },
  {
   "cell_type": "code",
   "execution_count": 2,
   "metadata": {},
   "outputs": [],
   "source": [
    "## Let's create some signal\n",
    "# Blank image\n",
    "n = 401\n",
    "p = np.zeros ((n, n))\n",
    "FOV = 40\n",
    "\n",
    "# Create the pixel grid and simple image\n",
    "y, x = np.mgrid[-40/2:40/2:(1j*n), -40/2:40/2:(1j*n)]\n",
    "#f = np.less(np.abs(x**2) + np.abs((y)**2),0.1)\n",
    "f = 0*x\n",
    "#f[200,200] = 1.0\n",
    "f[200,200] = 1.0\n",
    "f[224,200] = 1.0\n",
    "\n",
    "\n",
    "\n",
    "\n",
    "# Create the corresponding frequency grid\n",
    "du = 2/FOV\n",
    "u = du*np.linspace(1,n,n)\n",
    "u = u - np.mean(u)"
   ]
  },
  {
   "cell_type": "code",
   "execution_count": 3,
   "metadata": {},
   "outputs": [
    {
     "data": {
      "image/png": "[encoded data removed]",
      "text/plain": [
       "<Figure size 640x480 with 1 Axes>"
      ]
     },
     "metadata": {},
     "output_type": "display_data"
    }
   ],
   "source": [
    "imgplot = plt.imshow(abs(f[170:230,170:230]), extent = [x[0,170], x[0,230], y[170,0], y[230,0]],vmin = 0.0, vmax = 1.1*np.max(abs(f)))"
   ]
  },
  {
   "cell_type": "markdown",
   "metadata": {},
   "source": [
    "# Run the Fourier transform\n",
    "\n",
    "Now that we have an image, we can take its (discrete) Fourier transform. If you are curious about the meaning of the fftshift/ifftshift commands, we will cover this when we study the discrete Fourier transform and the fast Fourier transform. For now, let us simply assume that this following line returns the Fourier transform of our image. "
   ]
  },
  {
   "cell_type": "code",
   "execution_count": 4,
   "metadata": {},
   "outputs": [],
   "source": [
    "fhat = np.fft.fftshift(np.fft.fft2(np.fft.ifftshift(f)))/np.sqrt(f.size)"
   ]
  },
  {
   "cell_type": "markdown",
   "metadata": {},
   "source": [
    "# Show the magnitude of the Fourier transform\n",
    "\n",
    "The Fourier transform of a signal (even a real-valued signal) is generally complex-valued. This means that we can calculate its magnitude and display it as shown below. \n",
    "\n",
    "*Why do you think we show the logarithm of the magnitude, rather than showing directly the magnitude?*"
   ]
  },
  {
   "cell_type": "code",
   "execution_count": 5,
   "metadata": {},
   "outputs": [
    {
     "data": {
      "image/png": "[encoded data removed]",
      "text/plain": [
       "<Figure size 640x480 with 1 Axes>"
      ]
     },
     "metadata": {},
     "output_type": "display_data"
    }
   ],
   "source": [
    "imgplot = plt.imshow((abs(fhat[170:230,170:230])),extent = [u[170], u[230], u[170], u[230]],cmap='gray',vmin = 0.0, vmax = 1.1*np.max(abs(fhat)))\n"
   ]
  },
  {
   "cell_type": "markdown",
   "metadata": {},
   "source": [
    "# Show the phase of the Fourier transform\n",
    "\n",
    "Just like we can display the magnitude of the Fourier transform, we can display its phase (see below). \n",
    "\n",
    "Note that we could also show the real and imaginary values of the Fourier transform, although this is probably not as common. "
   ]
  },
  {
   "cell_type": "code",
   "execution_count": 6,
   "metadata": {},
   "outputs": [
    {
     "data": {
      "image/png": "[encoded data removed]",
      "text/plain": [
       "<Figure size 640x480 with 1 Axes>"
      ]
     },
     "metadata": {},
     "output_type": "display_data"
    }
   ],
   "source": [
    "imgplot = plt.imshow(np.angle(fhat[170:230,170:230]),extent = [u[170], u[230], u[170], u[230]], vmin=-np.pi, vmax=np.pi)"
   ]
  },
  {
   "cell_type": "markdown",
   "metadata": {},
   "source": [
    "# Load some Fourier transform imaging data (MRI) and reconstruct the corresponding image\n",
    "\n",
    "In the next few cells, we will run a similar exercise but using data based on Magnetic Resonance Imaging of the brain. Specifically, we will load a file with Fourier domain data, reconstruct the image by running an inverse Fourier transform, and display the magnitude and phase of the reconstructed image. "
   ]
  },
  {
   "cell_type": "code",
   "execution_count": null,
   "metadata": {},
   "outputs": [],
   "source": [
    "# If data are not here, copy over\n",
    "import os.path\n",
    "check_file = os.path.isfile('data/brain_fourier.mat')\n",
    "if check_file == False:\n",
    "  !wget https://github.com/dherarr/mp573_2025/blob/main/data/brain_fourier.mat?raw=true\n",
    "  !mkdir data\n",
    "  !mv brain_fourier.mat\\?raw\\=true data/brain_fourier.mat\n",
    "    \n",
    "# Load some image from file\n",
    "#import h5py\n",
    "#hdf5_path = 'dataset.hdf5'\n",
    "#brain_dataset = h5py.File(hdf5_path, \"r\")\n",
    "from os.path import dirname, join as pjoin\n",
    "import scipy.io as sio\n",
    "data_dir = pjoin('.', 'data')\n",
    "mat_fname = pjoin(data_dir, 'brain_fourier.mat')\n",
    "mat_contents = sio.loadmat(mat_fname)\n",
    "fhat = mat_contents['dataLR']  \n"
   ]
  },
  {
   "cell_type": "code",
   "execution_count": null,
   "metadata": {},
   "outputs": [],
   "source": [
    "imgplot = plt.imshow(np.log(abs(fhat)),cmap='gray')"
   ]
  },
  {
   "cell_type": "code",
   "execution_count": null,
   "metadata": {},
   "outputs": [],
   "source": [
    "f = np.fft.fftshift(np.fft.ifft2(np.fft.ifftshift(fhat)))\n",
    "imgplot = plt.imshow(abs(f),cmap='gray')"
   ]
  },
  {
   "cell_type": "code",
   "execution_count": null,
   "metadata": {},
   "outputs": [],
   "source": [
    "imgplot = plt.imshow(np.angle(f))"
   ]
  },
  {
   "cell_type": "markdown",
   "metadata": {},
   "source": [
    "# Noise and artifacts\n",
    "\n",
    "Finally, we will add some noise or artifact to the Fourier data, and see what happens to the corresponding image. Note that in the next cell you can manipulate the type and level of artifact that is included in the Fourier data, and then visualize the effect on the reconstructed image."
   ]
  },
  {
   "cell_type": "code",
   "execution_count": null,
   "metadata": {},
   "outputs": [],
   "source": [
    "# Now add some noise or artifact to the data\n",
    "#fhat2 = fhat.copy(); fhat2[40,30] = fhat2[40,30] + 40 # Uncomment this line for spike in Fourier-space\n",
    "fhat2 = np.roll(fhat, 10, axis=0);# Uncomment for shift in k-space\n",
    "#The next few lines add some Gaussian noise\n",
    "sizex = len(fhat2)\n",
    "sizey = len(fhat2[:])\n",
    "std = 0.5\n",
    "noise = np.random.normal(0,std,[sizex,sizey]) + np.random.normal(0,std,[sizex,sizey])*1j\n",
    "#fhat2 = fhat.copy(); fhat2 = fhat2 + noise # Uncomment to add noise"
   ]
  },
  {
   "cell_type": "code",
   "execution_count": null,
   "metadata": {},
   "outputs": [],
   "source": [
    "imgplot = plt.imshow(np.log(abs(fhat2)),cmap='gray')"
   ]
  },
  {
   "cell_type": "code",
   "execution_count": null,
   "metadata": {},
   "outputs": [],
   "source": [
    "f2 = np.fft.fftshift(np.fft.ifft2(np.fft.ifftshift(fhat2)))\n",
    "imgplot = plt.imshow(abs(f2),cmap='gray')"
   ]
  },
  {
   "cell_type": "code",
   "execution_count": null,
   "metadata": {},
   "outputs": [],
   "source": [
    "imgplot = plt.imshow(np.angle(f2))"
   ]
  },
  {
   "cell_type": "code",
   "execution_count": null,
   "metadata": {},
   "outputs": [],
   "source": [
    "# Let's try to replicate Rosalind Franklin's photo 51 \n",
    "# (https://en.wikipedia.org/wiki/Photo_51)\n",
    "# Create the pixel grid and simple input image\n",
    "n = 1001\n",
    "x = np.linspace(-10,10,n)\n",
    "Y, X = np.mgrid[-10:10:(1j*n), -10:10:(1j*n)]\n",
    "f2 = np.zeros ((n, n))\n",
    "for t in range(0,n-1):\n",
    "    f2[np.sqrt((Y - x[t])**2 + (X-0.5*np.sin(2*np.pi*x[t]/2))**2)<0.1]=1\n",
    "f2hat = np.fft.fftshift(np.fft.fft2(np.fft.ifftshift(f2)))\n",
    "    \n",
    "mymask = np.exp(-(X**2 + Y**2)/5)\n",
    "myfilt = np.exp(-(X[450:550,450:550]**2 + Y[450:550,450:550]**2)*100)\n"
   ]
  },
  {
   "cell_type": "code",
   "execution_count": null,
   "metadata": {},
   "outputs": [],
   "source": [
    "def makeInterference(vertshift):\n",
    "    vertshift = int(np.round(vertshift))\n",
    "    f3 = f2 + np.roll(f2,vertshift, axis=0);\n",
    "    f3 = signal.fftconvolve(f3,myfilt,'same')*mymask;\n",
    "    f3hat = np.fft.fftshift(np.fft.fft2(np.fft.ifftshift(f3)))\n",
    "    \n",
    "    plt.figure(figsize=(20,10))\n",
    "    plt.subplot(1,2,1)\n",
    "    font = {'weight' : 'normal',\n",
    "            'size'   : 26}\n",
    "    plt.rc('font', **font)\n",
    "    plt.title('Image space')\n",
    "    imgplot = plt.imshow(abs(f3[350:650,350:650]),cmap='gray') \n",
    "\n",
    "    plt.subplot(1,2,2)\n",
    "    font = {'weight' : 'normal',\n",
    "            'size'   : 26}\n",
    "    plt.rc('font', **font)\n",
    "    plt.title('Fourier space')\n",
    "    imgplot = plt.imshow(abs(f3hat[410:590,410:590]),cmap='gray',vmin=0,vmax=120000)\n",
    "\n",
    "    return (f3hat)"
   ]
  },
  {
   "cell_type": "code",
   "execution_count": null,
   "metadata": {},
   "outputs": [],
   "source": [
    "## Create interactive slide bar\n",
    "y = interactive(makeInterference,vertshift=FloatSlider(min=0,max=50,step=0.50),continuous_update=False)\n",
    "display(y)"
   ]
  },
  {
   "cell_type": "markdown",
   "metadata": {},
   "source": [
    "## Q1: Replicating Rosalind Franklin's figure\n",
    "\n",
    "What vertical shift as a percentage of our helix vertical period (ie: what value of the vertshift parameter above) leads to strong presence of the first three lines in each direction in Fourier space (aside from the central line), but destructive interference (disappearance) of the fourth layer line as described by Franklin's paper (page 741, second column, paragraph 2)? \n",
    "\n",
    "A: 0.0% (ie: 0/8)\n",
    "\n",
    "B: 12.5% (ie: 1/8)\n",
    "\n",
    "C: 37.5% (ie: 3/8)\n",
    "\n",
    "D: 50.0% (ie: 4/8)\n",
    "\n"
   ]
  },
  {
   "cell_type": "markdown",
   "metadata": {},
   "source": [
    "## Q2: Energy of a signal in spatial vs Fourier domain\n",
    "\n",
    "What is the relationship between the energy of a signal in the spatial domain, ie: $E_r = \\int_{\\mathbb{R^N}} |f(\\mathbf{r})|^2 d \\mathbf{r}$, and the energy of its Fourier transform, ie: $E_u = \\int_{\\mathbb{R^N}} |\\hat{f}(\\mathbf{u})|^2 d \\mathbf{u}$? Remember Parseval's theorem from the lecture's notes and the fact that for any complex number $a$, $|a|^2 = a \\overline{a}$ (where $\\overline{a}$ represents the complex conjugate of $a$). \n",
    "\n",
    "A. The energy in the Fourier domain is always smaller than in the spatial domain, ie: $E_u < E_r$\n",
    "\n",
    "B. The energy in the Fourier domain is always bigger than in the spatial domain, ie: $E_u > E_r$\n",
    "\n",
    "C. The energy in the Fourier domain is always the same as in the spatial domain, ie: $E_u = E_r$\n",
    "\n",
    "D. The energy in the Fourier domain can be bigger or smaller than in the spatial domain\n",
    "\n",
    "\n",
    "\n"
   ]
  },
  {
   "cell_type": "code",
   "execution_count": null,
   "metadata": {},
   "outputs": [],
   "source": []
  }
 ],
 "metadata": {
  "kernelspec": {
   "display_name": "Python 3",
   "language": "python",
   "name": "python3"
  },
  "language_info": {
   "codemirror_mode": {
    "name": "ipython",
    "version": 3
   },
   "file_extension": ".py",
   "mimetype": "text/x-python",
   "name": "python",
   "nbconvert_exporter": "python",
   "pygments_lexer": "ipython3",
   "version": "3.13.7"
  }
 },
 "nbformat": 4,
 "nbformat_minor": 4
}
