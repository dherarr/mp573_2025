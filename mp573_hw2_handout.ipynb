{
 "cells": [
  {
   "cell_type": "markdown",
   "metadata": {},
   "source": [
    "## Homework Set 2: Fourier Transforms in Multiple Dimensions"
   ]
  },
  {
   "cell_type": "code",
   "execution_count": 1,
   "metadata": {},
   "outputs": [
    {
     "name": "stderr",
     "output_type": "stream",
     "text": [
      "/var/folders/gh/vmf5xzv17mbb56zqsgk66ptr0000gp/T/ipykernel_88708/3070718705.py:10: DeprecationWarning: scipy.misc is deprecated and will be removed in 2.0.0\n",
      "  from scipy import signal, ndimage, misc\n"
     ]
    }
   ],
   "source": [
    "## MP 573 HW2 \n",
    "##\n",
    "%matplotlib inline\n",
    "import numpy as np\n",
    "import matplotlib.pyplot as plt\n",
    "from IPython.display import display, Image\n",
    "import matplotlib.image as mpimg\n",
    "from os.path import dirname, join as pjoin\n",
    "import scipy.io as sio\n",
    "from scipy import signal, ndimage, misc"
   ]
  },
  {
   "cell_type": "markdown",
   "metadata": {},
   "source": [
    "## 1.3: Magnitude vs Phase\n",
    "\n",
    "Load the MAT-file dogcat.mat, which contains 2 images (im1 and im2). Calculate the 2D (discrete) Fourier Transform of each of these images (eg: using the command fftn). \n",
    "\n",
    "A. Create a mixed image by using the magnitude from the Fourier Transform of im1, and the phase from the Fourier Transform of im2, and then performing a 2D (discrete) inverse Fourier Transform (eg: using the command ifftn). Does this mixed image look more like im1 or im2?\n",
    "\n",
    "B. Create another mixed image by using the magnitude from the Fourier Transform of im2, and the phase from the Fourier Transform of im1, and then performing a 2D (discrete) inverse Fourier Transform (eg: using the command ifftn). Does this mixed image look more like im1 or im2?\n",
    "\n",
    "What does this little experiment suggest about the relative importance of the magnitude vs the phase of the Fourier Transform of an image? "
   ]
  },
  {
   "cell_type": "code",
   "execution_count": null,
   "metadata": {},
   "outputs": [
    {
     "ename": "NameError",
     "evalue": "name 'os' is not defined",
     "output_type": "error",
     "traceback": [
      "\u001b[31m---------------------------------------------------------------------------\u001b[39m",
      "\u001b[31mNameError\u001b[39m                                 Traceback (most recent call last)",
      "\u001b[36mCell\u001b[39m\u001b[36m \u001b[39m\u001b[32mIn[2]\u001b[39m\u001b[32m, line 8\u001b[39m\n\u001b[32m      4\u001b[39m data_dir = pjoin(\u001b[33m'\u001b[39m\u001b[33m.\u001b[39m\u001b[33m'\u001b[39m, \u001b[33m'\u001b[39m\u001b[33mdata\u001b[39m\u001b[33m'\u001b[39m)\n\u001b[32m      5\u001b[39m mat_fname = pjoin(data_dir, \u001b[33m'\u001b[39m\u001b[33mdogcat.mat\u001b[39m\u001b[33m'\u001b[39m)\n\u001b[32m----> \u001b[39m\u001b[32m8\u001b[39m check_file = \u001b[43mos\u001b[49m.path.isfile(mat_fname)\n\u001b[32m      9\u001b[39m \u001b[38;5;28;01mif\u001b[39;00m check_file == \u001b[38;5;28;01mFalse\u001b[39;00m:\n\u001b[32m     10\u001b[39m   get_ipython().system(\u001b[33m'\u001b[39m\u001b[33mwget https://github.com/dherarr/mp573_2025/blob/main/data/dogcat.mat?raw=true\u001b[39m\u001b[33m'\u001b[39m)\n",
      "\u001b[31mNameError\u001b[39m: name 'os' is not defined"
     ]
    }
   ],
   "source": [
    "# Load our two images\n",
    "import os.path\n",
    "from os.path import dirname, join as pjoin\n",
    "import scipy.io as sio\n",
    "data_dir = pjoin('.', 'data')\n",
    "mat_fname = pjoin(data_dir, 'dogcat.mat')\n",
    "\n",
    "\n",
    "check_file = os.path.isfile(mat_fname)\n",
    "if check_file == False:\n",
    "  !wget https://github.com/dherarr/mp573_2025/blob/main/data/dogcat.mat?raw=true\n",
    "  !mkdir data\n",
    "  !mv dogcat.mat\\?raw\\=true data/dogcat.mat\n",
    "\n",
    "\n",
    "\n",
    "mat_contents = sio.loadmat(mat_fname)\n",
    "im1 = mat_contents['im1']\n",
    "im2 = mat_contents['im2']\n",
    "\n",
    "# Show the images\n",
    "plt.figure(figsize=(20,10))\n",
    "plt.subplot(1,2,1)\n",
    "font = {'weight' : 'normal',\n",
    "        'size'   : 22}\n",
    "plt.rc('font', **font)\n",
    "plt.title('Image 1 (dog)')\n",
    "imgplot = plt.imshow(abs(im1),cmap='gray')\n",
    "plt.subplot(1,2,2)\n",
    "plt.rc('font', **font)\n",
    "plt.title('Image 2 (cat)')\n",
    "imgplot = plt.imshow(abs(im2),cmap='gray')\n",
    "\n",
    "# To-do: calculate Fourier transforms of our images\n",
    "\n",
    "# To-Do: Create mixed images (imA and imB) in the Fourier domain\n",
    "\n",
    "# To-Do: Transform back to spatial domain\n",
    "\n",
    "# To-Do: Show the two \"mixed\" images\n",
    "\n"
   ]
  },
  {
   "cell_type": "code",
   "execution_count": null,
   "metadata": {},
   "outputs": [],
   "source": []
  }
 ],
 "metadata": {
  "kernelspec": {
   "display_name": "Python 3",
   "language": "python",
   "name": "python3"
  },
  "language_info": {
   "codemirror_mode": {
    "name": "ipython",
    "version": 3
   },
   "file_extension": ".py",
   "mimetype": "text/x-python",
   "name": "python",
   "nbconvert_exporter": "python",
   "pygments_lexer": "ipython3",
   "version": "3.13.7"
  }
 },
 "nbformat": 4,
 "nbformat_minor": 4
}
