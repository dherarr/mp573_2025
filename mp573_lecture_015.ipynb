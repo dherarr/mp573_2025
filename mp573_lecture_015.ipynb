{
 "cells": [
  {
   "cell_type": "code",
   "execution_count": null,
   "metadata": {},
   "outputs": [],
   "source": [
    "## MP 573 Lecture 15: Applications of the DFT - image reconstruction\n",
    "##\n",
    "import matplotlib.pyplot as plt\n",
    "from matplotlib import animation\n",
    "import numpy as np\n",
    "#%matplotlib widget\n",
    "#%matplotlib notebook\n",
    "#%matplotlib tk\n",
    "import numpy as np\n",
    "from IPython.display import display, Image, HTML\n",
    "import matplotlib.image as mpimg\n",
    "from os.path import dirname, join as pjoin\n",
    "import scipy.io as sio\n",
    "import math \n",
    "from PIL import Image\n"
   ]
  },
  {
   "cell_type": "code",
   "execution_count": 4,
   "metadata": {},
   "outputs": [],
   "source": [
    "# If data are not here, copy over\n",
    "import os.path\n",
    "check_file = os.path.isfile('data/brain_orig.mat')\n",
    "if check_file == False:\n",
    "  !wget https://github.com/dherarr/mp573_2025/blob/main/data/brain_orig.mat?raw=true\n",
    "  !mkdir data\n",
    "  !mv brain_orig.mat\\?raw\\=true data/brain_orig.mat\n",
    "\n",
    "# Load some image from file\n",
    "data_dir = pjoin('.', 'data')\n",
    "mat_fname = pjoin(data_dir, 'brain_orig.mat')\n",
    "mat_contents = sio.loadmat(mat_fname)\n",
    "mat_contents\n",
    "f = mat_contents['im_mr']\n",
    "sx = len(f)\n",
    "sy = len(f[:])"
   ]
  },
  {
   "cell_type": "code",
   "execution_count": 5,
   "metadata": {},
   "outputs": [],
   "source": [
    "fig2 = plt.figure()\n",
    "imgplot = plt.imshow(abs(f),cmap='gray')"
   ]
  },
  {
   "cell_type": "code",
   "execution_count": 6,
   "metadata": {},
   "outputs": [],
   "source": [
    "# Calculate and show the DFT\n",
    "fhat = np.fft.fftshift(np.fft.fft2(np.fft.ifftshift(f)))\n",
    "fig2 = plt.figure()\n",
    "imgplot = plt.imshow(np.log(abs(fhat)),cmap='gray')"
   ]
  },
  {
   "cell_type": "markdown",
   "metadata": {},
   "source": [
    "## Propagation of noise in DFT reconstruction"
   ]
  },
  {
   "cell_type": "code",
   "execution_count": 7,
   "metadata": {},
   "outputs": [
    {
     "data": {
      "text/plain": [
       "(np.float64(-0.5), np.float64(319.5), np.float64(319.5), np.float64(-0.5))"
      ]
     },
     "execution_count": 7,
     "metadata": {},
     "output_type": "execute_result"
    }
   ],
   "source": [
    "# Now add some noise or artifact to the data\n",
    "fhat2 = fhat.copy(); \n",
    "#fhat2[145,:] = fhat2[145,:] + 10000 # Uncomment this line for spike in Fourier-space\n",
    "fhat2 = np.roll(fhat, 10, axis=0);# Uncomment for shift in k-space\n",
    "#The next few lines add some Gaussian noise\n",
    "sizex = len(fhat2)\n",
    "sizey = len(fhat2[:])\n",
    "std = 80\n",
    "noise = np.random.normal(0,std,[sizex,sizey]) + np.random.normal(0,std,[sizex,sizey])*1j\n",
    "#fhat2 = fhat2 + noise # Uncomment to add noise\n",
    "\n",
    "# Display Fourier-space signal and reconstructed image\n",
    "plt.figure(figsize=(7,7))\n",
    "plt.subplot(2,2,1)\n",
    "imgplot = plt.imshow(np.log(abs(fhat)),cmap='gray')\n",
    "f2 = np.fft.fftshift(np.fft.ifft2(np.fft.ifftshift(fhat2)))\n",
    "plt.title('Original Fourier space')\n",
    "plt.axis('off')\n",
    "plt.subplot(2,2,2)\n",
    "imgplot = plt.imshow(abs(f),cmap='gray',vmin=0, vmax=1)\n",
    "plt.title('Original image')\n",
    "plt.axis('off')\n",
    "plt.subplot(2,2,3)\n",
    "imgplot = plt.imshow(np.log(abs(fhat2)),cmap='gray')\n",
    "f2 = np.fft.fftshift(np.fft.ifft2(np.fft.ifftshift(fhat2)))\n",
    "plt.title('Noisy Fourier space')\n",
    "plt.axis('off')\n",
    "plt.subplot(2,2,4)\n",
    "imgplot = plt.imshow(abs(f2),cmap='gray',vmin=0, vmax=1)\n",
    "plt.title('Noisy image')\n",
    "plt.axis('off')"
   ]
  },
  {
   "cell_type": "markdown",
   "metadata": {},
   "source": [
    "## Missing data in DFT reconstruction"
   ]
  },
  {
   "cell_type": "code",
   "execution_count": 8,
   "metadata": {},
   "outputs": [
    {
     "data": {
      "text/plain": [
       "(np.float64(-0.5), np.float64(319.5), np.float64(319.5), np.float64(-0.5))"
      ]
     },
     "execution_count": 8,
     "metadata": {},
     "output_type": "execute_result"
    }
   ],
   "source": [
    "# Simulate missing data along some dimension\n",
    "skip = 4\n",
    "fhat2 =0*fhat.copy()\n",
    "fhat2[:,1::skip] = fhat[:,1::skip]\n",
    "f2 = np.fft.fftshift(np.fft.ifft2(np.fft.ifftshift(fhat2)))\n",
    "\n",
    "\n",
    "# Display Fourier-space signal and reconstructed image\n",
    "plt.figure(figsize=(7,7))\n",
    "plt.subplot(2,2,1)\n",
    "imgplot = plt.imshow(np.log(abs(fhat[140:180,140:180]) + 0.00001),cmap='gray')\n",
    "f2 = np.fft.fftshift(np.fft.ifft2(np.fft.ifftshift(fhat2)))\n",
    "plt.title('Original Fourier space (zoom)')\n",
    "plt.axis('off')\n",
    "plt.subplot(2,2,2)\n",
    "imgplot = plt.imshow(abs(f),cmap='gray')\n",
    "plt.title('Original image')\n",
    "plt.axis('off')\n",
    "plt.subplot(2,2,3)\n",
    "imgplot = plt.imshow(np.log(abs(fhat2[140:180,140:180]) + 0.00001),cmap='gray')\n",
    "f2 = np.fft.fftshift(np.fft.ifft2(np.fft.ifftshift(fhat2)))\n",
    "plt.title('Missing-data Fourier space (zoom)')\n",
    "plt.axis('off')\n",
    "plt.subplot(2,2,4)\n",
    "imgplot = plt.imshow(abs(f2),cmap='gray')\n",
    "plt.title('Missing-data image')\n",
    "plt.axis('off')"
   ]
  },
  {
   "cell_type": "markdown",
   "metadata": {},
   "source": [
    "## Propagation of motion artifacts in DFT reconstruction"
   ]
  },
  {
   "cell_type": "code",
   "execution_count": 9,
   "metadata": {},
   "outputs": [],
   "source": [
    "# Now add some motion with angle ROT_ANGLE and frequency ROT_FREQUENCY\n",
    "ROT_ANGLE = 20\n",
    "ROT_FREQUENCY = 0.05\n",
    "f3hat = 0*fhat\n",
    "fig = plt.figure()\n",
    "ims = []\n",
    "for k in range(0,sx):\n",
    "    myshift = int(np.round(8*np.sin(2*math.pi*0.02*k)))\n",
    "    #f2 = np.roll(f,myshift,axis=0) # shift\n",
    "    myrot = ROT_ANGLE*np.sin(2*math.pi*ROT_FREQUENCY*k)\n",
    "    new_im = Image.fromarray(f)\n",
    "    new_im2 = new_im.rotate(myrot,resample=Image.Resampling.BICUBIC)\n",
    "    f2 = np.array(new_im2) # rotate\n",
    "    im = plt.imshow(abs(f2),cmap='gray',animated=True,vmin=0,vmax=1)\n",
    "    \n",
    "    ims.append([im])\n",
    "    f2hat =  np.fft.fftshift(np.fft.fft2(np.fft.ifftshift(f2)))\n",
    "    f3hat[:,k] = f2hat[:,k]\n",
    "ani = animation.ArtistAnimation(fig, ims, interval=100, blit=False,\n",
    "                                repeat_delay=0)\n",
    "plt.show()"
   ]
  },
  {
   "cell_type": "code",
   "execution_count": 10,
   "metadata": {},
   "outputs": [],
   "source": [
    "# Take our motion-corrupted data and reconstruct our image\n",
    "f3 = np.fft.fftshift(np.fft.ifft2(np.fft.ifftshift(f3hat)))\n",
    "\n",
    "# Display both the original and motion-corrupted images\n",
    "fig2 = plt.figure()\n",
    "plt.subplot(1,2,1)\n",
    "imgplot = plt.imshow(abs(f2),cmap='gray',vmin=0, vmax=1)\n",
    "plt.title('Original image')\n",
    "plt.axis('off')\n",
    "plt.subplot(1,2,2)\n",
    "imgplot = plt.imshow(abs(f3),cmap='gray',vmin=0, vmax=1)\n",
    "plt.title('Motion-corrupted image')\n",
    "plt.axis('off');\n"
   ]
  },
  {
   "cell_type": "code",
   "execution_count": null,
   "metadata": {},
   "outputs": [],
   "source": []
  }
 ],
 "metadata": {
  "kernelspec": {
   "display_name": "Python 3",
   "language": "python",
   "name": "python3"
  },
  "language_info": {
   "codemirror_mode": {
    "name": "ipython",
    "version": 3
   },
   "file_extension": ".py",
   "mimetype": "text/x-python",
   "name": "python",
   "nbconvert_exporter": "python",
   "pygments_lexer": "ipython3",
   "version": "3.14.0"
  }
 },
 "nbformat": 4,
 "nbformat_minor": 4
}
